{
 "cells": [
  {
   "cell_type": "markdown",
   "metadata": {},
   "source": [
    "# Project 3\n",
    " _Josh Archer_"
   ]
  },
  {
   "cell_type": "markdown",
   "metadata": {},
   "source": [
    "# First part, in the command line\n",
    "_the jupyter notebook work is in the second half of this notebook_"
   ]
  },
  {
   "cell_type": "markdown",
   "metadata": {},
   "source": [
    "## Setup"
   ]
  },
  {
   "cell_type": "markdown",
   "metadata": {},
   "source": [
    "- Copy in the YAML file (Week 13), Comment out ports and 8888 on cloudera;\n",
    "Uncomment on spark\n",
    "\n",
    "```\n",
    "cp ~/w205/course-content/13-Understanding-Data/docker-compose.yml ~/w205/project-3-jearcher\n",
    "```\n",
    "\n",
    "- Copy in `game_api.py`\n",
    "\n",
    "```\n",
    "cp ~/w205/course-content/13-Understanding-Data/game_api.py ~/w205/project-3-jearcher \n",
    "```"
   ]
  },
  {
   "cell_type": "markdown",
   "metadata": {},
   "source": [
    "## Starting Spark with Jupyter\n",
    "\n",
    "- Start up Spark\n",
    "\n",
    "```\n",
    "docker-compose exec spark bash\n",
    "```\n",
    "\n",
    "- In Spark, create a symbolic link\n",
    "```\n",
    "ln -s /w205 w205\n",
    "exit\n",
    "```\n",
    "\n",
    "- Run enhanced version of pyspark comand line to tarket jupyter notebook\n",
    "```\n",
    "docker-compose exec spark env PYSPARK_DRIVER_PYTHON=jupyter PYSPARK_DRIVER_PYTHON_OPTS='notebook --no-browser --port 8888 --ip 0.0.0.0 --allow-root' pyspark\n",
    "```\n",
    "\n",
    "- URL for Dec 5\n",
    "\n",
    "http://34.83.253.127:8888/?token=adac487a3a7124a3ee5a4957a64f981715a0f36a4c05eff7"
   ]
  },
  {
   "cell_type": "markdown",
   "metadata": {},
   "source": [
    "# Edit game API to add events and metadata"
   ]
  },
  {
   "cell_type": "markdown",
   "metadata": {},
   "source": [
    "- Edit game api, add event buy_sword and join_guild, add metadata\n",
    "\n",
    "```\n",
    "vi game_api.py\n",
    "```\n",
    "\n",
    "- Example new event with metadata\n",
    "\n",
    "```\n",
    "@app.route(\"/buy_a_sword\")\n",
    "def buy_a_sword():\n",
    "    buy_sword_event = {'event_type': 'buy_sword',\n",
    "            'sword_condition': 'rustyAF'}\n",
    "    log_to_kafka('events', buy_sword_event)\n",
    "    return \"Sword Bought!\\n\"\n",
    "```\n",
    "- Save edits "
   ]
  },
  {
   "cell_type": "markdown",
   "metadata": {},
   "source": [
    "## Spin up the cluster and take out the flask app"
   ]
  },
  {
   "cell_type": "markdown",
   "metadata": {},
   "source": [
    "- Spin up the cluster\n",
    "\n",
    "```\n",
    "docker-compose up -d\n",
    "```\n",
    "\n",
    "- Check to make sure everything came up, nothing extra\n",
    "\n",
    "```\n",
    "docker-compose ps\n",
    "```\n",
    "\n",
    "- Create topic events\n",
    "```\n",
    "docker-compose exec kafka kafka-topics --create --topic events --partitions 1 --replication-factor 1 --if-not-exists --zookeeper zookeeper:32181\n",
    "```\n",
    "\n",
    "- Take out **Flask App**, hold it open in a window\n",
    "\n",
    "```\n",
    "docker-compose exec mids env FLASK_APP=/w205/project-3-jearcher/game_api.py flask run --host 0.0.0.0\n",
    "```"
   ]
  },
  {
   "cell_type": "markdown",
   "metadata": {},
   "source": [
    "## Generate events using Apache Bench\n",
    "\n",
    "- Generate Events using Apache Bench (generates 10 events per line)\n",
    "\n",
    "**user 1**\n",
    "    \n",
    "```\n",
    "docker-compose exec mids ab -n 10 -H \"Host: user1.comcast.com\" http://localhost:5000/\n",
    "docker-compose exec mids ab -n 10 -H \"Host: user1.comcast.com\" http://localhost:5000/purchase_a_sword\n",
    "docker-compose exec mids ab -n 10 -H \"Host: user1.comcast.com\" http://localhost:5000/buy_a_sword\n",
    "docker-compose exec mids ab -n 10 -H \"Host: user1.comcast.com\" http://localhost:5000/join_guild\n",
    "```"
   ]
  },
  {
   "cell_type": "markdown",
   "metadata": {},
   "source": [
    "**user 2**\n",
    "     \n",
    "```\n",
    "docker-compose exec mids ab -n 10 -H \"Host: user2.att.com\" http://localhost:5000/\n",
    "docker-compose exec mids ab -n 10 -H \"Host: user2.att.com\" http://localhost:5000/purchase_a_sword\n",
    "docker-compose exec mids ab -n 10 -H \"Host: user2.att.com\" http://localhost:5000/buy_a_sword\n",
    "docker-compose exec mids ab -n 10 -H \"Host: user2.att.com\" http://localhost:5000/join_guild\n",
    "```"
   ]
  },
  {
   "cell_type": "markdown",
   "metadata": {},
   "source": [
    "### Infinite loop for Apache Bench\n",
    "- After week 13, use streaming apache bench (leave open in window), an infinite loop to run Apache Bench Command\n",
    "\n",
    "- Purchase Sword (User1)\n",
    "\n",
    "```\n",
    "while true; do docker-compose exec mids ab -n 10 -H \"Host: user1.comcast.com\" http://localhost:5000/purchase_a_sword; sleep 5; done\n",
    "```\n",
    "\n",
    "- Purchase Sword (User2)\n",
    "\n",
    "\n",
    "```\n",
    "while true; do docker-compose exec mids ab -n 10 -H \"Host: user2.att.com\" http://localhost:5000/purchase_a_sword; sleep 5; done\n",
    "```\n"
   ]
  },
  {
   "cell_type": "markdown",
   "metadata": {},
   "source": [
    "- Look at the events (should get more every few seconds)\n",
    "\n",
    "```\n",
    "docker-compose exec mids kafkacat -C -b kafka:29092 -t events -o beginning -e\n",
    "```\n",
    "\n",
    "- Check out what it wrote in Hadoop\n",
    "\n",
    "```\n",
    "docker-compose exec cloudera hadoop fs -ls /tmp/sword_purchases\n",
    "```"
   ]
  },
  {
   "cell_type": "markdown",
   "metadata": {},
   "source": [
    "## Using HIVE\n",
    "\n",
    "```\n",
    "docker-compose exec cloudera hive\n",
    "```\n",
    "\n",
    "- Writing stream to sword purchases (create external table)\n",
    "\n",
    "```\n",
    "create external table if not exists default.sword_purchases (Accept string, Host string, User_Agent string, event_type string, timestamp string) stored as parquet location '/tmp/sword_purchases'  tblproperties (\"parquet.compress\"=\"SNAPPY\");\n",
    "```\n",
    "\n",
    "- In HIVE, take a look at the table\n",
    "\n",
    "```\n",
    "> show tables; \n",
    "> exit;\n",
    "```"
   ]
  },
  {
   "cell_type": "markdown",
   "metadata": {},
   "source": [
    "## Query from Presto\n",
    "\n",
    "```\n",
    "docker-compose exec presto presto --server presto:8080 --catalog hive --schema default\n",
    "```\n",
    "\n",
    "- in Presto\n",
    "\n",
    "```\n",
    "> show tables;\n",
    "> select * from sword_purchases;\n",
    "```\n",
    "\n",
    "- Check the count a couple times, should increase every few seconds\n",
    "```\n",
    "> select count(*) from sword_purchases;\n",
    "```"
   ]
  },
  {
   "cell_type": "markdown",
   "metadata": {},
   "source": [
    "## Shutting down cluster\n",
    "\n",
    "```\n",
    "docker-compose down\n",
    "docker-compose ps\n",
    "docker ps -a\n",
    "```"
   ]
  },
  {
   "cell_type": "markdown",
   "metadata": {},
   "source": [
    "# Second part, Work in the Jupyter Notebook\n",
    "## After Week 11"
   ]
  },
  {
   "cell_type": "code",
   "execution_count": 71,
   "metadata": {
    "collapsed": true
   },
   "outputs": [],
   "source": [
    "import json\n",
    "from pyspark.sql import Row\n",
    "from pyspark.sql.functions import udf"
   ]
  },
  {
   "cell_type": "code",
   "execution_count": 72,
   "metadata": {
    "collapsed": true
   },
   "outputs": [],
   "source": [
    "# User Defined Function\n",
    "@udf('string')\n",
    "def munge_event(event_as_json):\n",
    "    event = json.loads(event_as_json)\n",
    "    event['Host'] = \"moe\"\n",
    "    event['Cache-Control'] = \"no-cache\"\n",
    "    return json.dumps(event)\n"
   ]
  },
  {
   "cell_type": "code",
   "execution_count": 73,
   "metadata": {
    "collapsed": true
   },
   "outputs": [],
   "source": [
    "raw_events = spark \\\n",
    "        .read \\\n",
    "        .format(\"kafka\") \\\n",
    "        .option(\"kafka.bootstrap.servers\", \"kafka:29092\") \\\n",
    "        .option(\"subscribe\", \"events\") \\\n",
    "        .option(\"startingOffsets\", \"earliest\") \\\n",
    "        .option(\"endingOffsets\", \"latest\") \\\n",
    "        .load()"
   ]
  },
  {
   "cell_type": "code",
   "execution_count": 74,
   "metadata": {},
   "outputs": [
    {
     "name": "stdout",
     "output_type": "stream",
     "text": [
      "+----+--------------------+------+---------+------+--------------------+-------------+\n",
      "| key|               value| topic|partition|offset|           timestamp|timestampType|\n",
      "+----+--------------------+------+---------+------+--------------------+-------------+\n",
      "|null|[7B 22 48 6F 73 7...|events|        0|     0|2020-12-08 02:36:...|            0|\n",
      "|null|[7B 22 48 6F 73 7...|events|        0|     1|2020-12-08 02:36:...|            0|\n",
      "|null|[7B 22 48 6F 73 7...|events|        0|     2|2020-12-08 02:36:...|            0|\n",
      "|null|[7B 22 48 6F 73 7...|events|        0|     3|2020-12-08 02:36:...|            0|\n",
      "|null|[7B 22 48 6F 73 7...|events|        0|     4|2020-12-08 02:36:...|            0|\n",
      "|null|[7B 22 48 6F 73 7...|events|        0|     5|2020-12-08 02:36:...|            0|\n",
      "|null|[7B 22 48 6F 73 7...|events|        0|     6|2020-12-08 02:36:...|            0|\n",
      "|null|[7B 22 48 6F 73 7...|events|        0|     7|2020-12-08 02:36:...|            0|\n",
      "|null|[7B 22 48 6F 73 7...|events|        0|     8|2020-12-08 02:36:...|            0|\n",
      "|null|[7B 22 48 6F 73 7...|events|        0|     9|2020-12-08 02:36:...|            0|\n",
      "|null|[7B 22 48 6F 73 7...|events|        0|    10|2020-12-08 02:36:...|            0|\n",
      "|null|[7B 22 48 6F 73 7...|events|        0|    11|2020-12-08 02:36:...|            0|\n",
      "|null|[7B 22 48 6F 73 7...|events|        0|    12|2020-12-08 02:36:...|            0|\n",
      "|null|[7B 22 48 6F 73 7...|events|        0|    13|2020-12-08 02:36:...|            0|\n",
      "|null|[7B 22 48 6F 73 7...|events|        0|    14|2020-12-08 02:36:...|            0|\n",
      "|null|[7B 22 48 6F 73 7...|events|        0|    15|2020-12-08 02:36:...|            0|\n",
      "|null|[7B 22 48 6F 73 7...|events|        0|    16|2020-12-08 02:36:...|            0|\n",
      "|null|[7B 22 48 6F 73 7...|events|        0|    17|2020-12-08 02:36:...|            0|\n",
      "|null|[7B 22 48 6F 73 7...|events|        0|    18|2020-12-08 02:36:...|            0|\n",
      "|null|[7B 22 48 6F 73 7...|events|        0|    19|2020-12-08 02:36:...|            0|\n",
      "+----+--------------------+------+---------+------+--------------------+-------------+\n",
      "only showing top 20 rows\n",
      "\n"
     ]
    }
   ],
   "source": [
    "raw_events.show()"
   ]
  },
  {
   "cell_type": "code",
   "execution_count": 75,
   "metadata": {
    "collapsed": true
   },
   "outputs": [],
   "source": [
    "munged_events = raw_events \\\n",
    "        .select(raw_events.value.cast('string').alias('raw'),\n",
    "                raw_events.timestamp.cast('string')) \\\n",
    "        .withColumn('munged', munge_event('raw'))"
   ]
  },
  {
   "cell_type": "code",
   "execution_count": 76,
   "metadata": {},
   "outputs": [
    {
     "name": "stdout",
     "output_type": "stream",
     "text": [
      "+-------------------------------------------------------------------------------------------------------------------------------------------+-----------------------+----------------------------------------------------------------------------------------------------------------------------------------------------------+\n",
      "|raw                                                                                                                                        |timestamp              |munged                                                                                                                                                    |\n",
      "+-------------------------------------------------------------------------------------------------------------------------------------------+-----------------------+----------------------------------------------------------------------------------------------------------------------------------------------------------+\n",
      "|{\"Host\": \"user1.comcast.com\", \"sword_type\": \"one_handed\", \"event_type\": \"purchase_sword\", \"Accept\": \"*/*\", \"User-Agent\": \"ApacheBench/2.3\"}|2020-12-08 02:36:10.242|{\"Host\": \"moe\", \"sword_type\": \"one_handed\", \"event_type\": \"purchase_sword\", \"Accept\": \"*/*\", \"User-Agent\": \"ApacheBench/2.3\", \"Cache-Control\": \"no-cache\"}|\n",
      "|{\"Host\": \"user1.comcast.com\", \"sword_type\": \"one_handed\", \"event_type\": \"purchase_sword\", \"Accept\": \"*/*\", \"User-Agent\": \"ApacheBench/2.3\"}|2020-12-08 02:36:10.249|{\"Host\": \"moe\", \"sword_type\": \"one_handed\", \"event_type\": \"purchase_sword\", \"Accept\": \"*/*\", \"User-Agent\": \"ApacheBench/2.3\", \"Cache-Control\": \"no-cache\"}|\n",
      "|{\"Host\": \"user1.comcast.com\", \"sword_type\": \"one_handed\", \"event_type\": \"purchase_sword\", \"Accept\": \"*/*\", \"User-Agent\": \"ApacheBench/2.3\"}|2020-12-08 02:36:10.251|{\"Host\": \"moe\", \"sword_type\": \"one_handed\", \"event_type\": \"purchase_sword\", \"Accept\": \"*/*\", \"User-Agent\": \"ApacheBench/2.3\", \"Cache-Control\": \"no-cache\"}|\n",
      "|{\"Host\": \"user1.comcast.com\", \"sword_type\": \"one_handed\", \"event_type\": \"purchase_sword\", \"Accept\": \"*/*\", \"User-Agent\": \"ApacheBench/2.3\"}|2020-12-08 02:36:10.254|{\"Host\": \"moe\", \"sword_type\": \"one_handed\", \"event_type\": \"purchase_sword\", \"Accept\": \"*/*\", \"User-Agent\": \"ApacheBench/2.3\", \"Cache-Control\": \"no-cache\"}|\n",
      "|{\"Host\": \"user1.comcast.com\", \"sword_type\": \"one_handed\", \"event_type\": \"purchase_sword\", \"Accept\": \"*/*\", \"User-Agent\": \"ApacheBench/2.3\"}|2020-12-08 02:36:10.256|{\"Host\": \"moe\", \"sword_type\": \"one_handed\", \"event_type\": \"purchase_sword\", \"Accept\": \"*/*\", \"User-Agent\": \"ApacheBench/2.3\", \"Cache-Control\": \"no-cache\"}|\n",
      "|{\"Host\": \"user1.comcast.com\", \"sword_type\": \"one_handed\", \"event_type\": \"purchase_sword\", \"Accept\": \"*/*\", \"User-Agent\": \"ApacheBench/2.3\"}|2020-12-08 02:36:10.259|{\"Host\": \"moe\", \"sword_type\": \"one_handed\", \"event_type\": \"purchase_sword\", \"Accept\": \"*/*\", \"User-Agent\": \"ApacheBench/2.3\", \"Cache-Control\": \"no-cache\"}|\n",
      "|{\"Host\": \"user1.comcast.com\", \"sword_type\": \"one_handed\", \"event_type\": \"purchase_sword\", \"Accept\": \"*/*\", \"User-Agent\": \"ApacheBench/2.3\"}|2020-12-08 02:36:10.26 |{\"Host\": \"moe\", \"sword_type\": \"one_handed\", \"event_type\": \"purchase_sword\", \"Accept\": \"*/*\", \"User-Agent\": \"ApacheBench/2.3\", \"Cache-Control\": \"no-cache\"}|\n",
      "|{\"Host\": \"user1.comcast.com\", \"sword_type\": \"one_handed\", \"event_type\": \"purchase_sword\", \"Accept\": \"*/*\", \"User-Agent\": \"ApacheBench/2.3\"}|2020-12-08 02:36:10.262|{\"Host\": \"moe\", \"sword_type\": \"one_handed\", \"event_type\": \"purchase_sword\", \"Accept\": \"*/*\", \"User-Agent\": \"ApacheBench/2.3\", \"Cache-Control\": \"no-cache\"}|\n",
      "|{\"Host\": \"user1.comcast.com\", \"sword_type\": \"one_handed\", \"event_type\": \"purchase_sword\", \"Accept\": \"*/*\", \"User-Agent\": \"ApacheBench/2.3\"}|2020-12-08 02:36:10.263|{\"Host\": \"moe\", \"sword_type\": \"one_handed\", \"event_type\": \"purchase_sword\", \"Accept\": \"*/*\", \"User-Agent\": \"ApacheBench/2.3\", \"Cache-Control\": \"no-cache\"}|\n",
      "|{\"Host\": \"user1.comcast.com\", \"sword_type\": \"one_handed\", \"event_type\": \"purchase_sword\", \"Accept\": \"*/*\", \"User-Agent\": \"ApacheBench/2.3\"}|2020-12-08 02:36:10.264|{\"Host\": \"moe\", \"sword_type\": \"one_handed\", \"event_type\": \"purchase_sword\", \"Accept\": \"*/*\", \"User-Agent\": \"ApacheBench/2.3\", \"Cache-Control\": \"no-cache\"}|\n",
      "|{\"Host\": \"user1.comcast.com\", \"sword_type\": \"one_handed\", \"event_type\": \"purchase_sword\", \"Accept\": \"*/*\", \"User-Agent\": \"ApacheBench/2.3\"}|2020-12-08 02:36:15.798|{\"Host\": \"moe\", \"sword_type\": \"one_handed\", \"event_type\": \"purchase_sword\", \"Accept\": \"*/*\", \"User-Agent\": \"ApacheBench/2.3\", \"Cache-Control\": \"no-cache\"}|\n",
      "|{\"Host\": \"user1.comcast.com\", \"sword_type\": \"one_handed\", \"event_type\": \"purchase_sword\", \"Accept\": \"*/*\", \"User-Agent\": \"ApacheBench/2.3\"}|2020-12-08 02:36:15.801|{\"Host\": \"moe\", \"sword_type\": \"one_handed\", \"event_type\": \"purchase_sword\", \"Accept\": \"*/*\", \"User-Agent\": \"ApacheBench/2.3\", \"Cache-Control\": \"no-cache\"}|\n",
      "|{\"Host\": \"user1.comcast.com\", \"sword_type\": \"one_handed\", \"event_type\": \"purchase_sword\", \"Accept\": \"*/*\", \"User-Agent\": \"ApacheBench/2.3\"}|2020-12-08 02:36:15.805|{\"Host\": \"moe\", \"sword_type\": \"one_handed\", \"event_type\": \"purchase_sword\", \"Accept\": \"*/*\", \"User-Agent\": \"ApacheBench/2.3\", \"Cache-Control\": \"no-cache\"}|\n",
      "|{\"Host\": \"user1.comcast.com\", \"sword_type\": \"one_handed\", \"event_type\": \"purchase_sword\", \"Accept\": \"*/*\", \"User-Agent\": \"ApacheBench/2.3\"}|2020-12-08 02:36:15.808|{\"Host\": \"moe\", \"sword_type\": \"one_handed\", \"event_type\": \"purchase_sword\", \"Accept\": \"*/*\", \"User-Agent\": \"ApacheBench/2.3\", \"Cache-Control\": \"no-cache\"}|\n",
      "|{\"Host\": \"user1.comcast.com\", \"sword_type\": \"one_handed\", \"event_type\": \"purchase_sword\", \"Accept\": \"*/*\", \"User-Agent\": \"ApacheBench/2.3\"}|2020-12-08 02:36:15.81 |{\"Host\": \"moe\", \"sword_type\": \"one_handed\", \"event_type\": \"purchase_sword\", \"Accept\": \"*/*\", \"User-Agent\": \"ApacheBench/2.3\", \"Cache-Control\": \"no-cache\"}|\n",
      "|{\"Host\": \"user1.comcast.com\", \"sword_type\": \"one_handed\", \"event_type\": \"purchase_sword\", \"Accept\": \"*/*\", \"User-Agent\": \"ApacheBench/2.3\"}|2020-12-08 02:36:15.812|{\"Host\": \"moe\", \"sword_type\": \"one_handed\", \"event_type\": \"purchase_sword\", \"Accept\": \"*/*\", \"User-Agent\": \"ApacheBench/2.3\", \"Cache-Control\": \"no-cache\"}|\n",
      "|{\"Host\": \"user1.comcast.com\", \"sword_type\": \"one_handed\", \"event_type\": \"purchase_sword\", \"Accept\": \"*/*\", \"User-Agent\": \"ApacheBench/2.3\"}|2020-12-08 02:36:15.814|{\"Host\": \"moe\", \"sword_type\": \"one_handed\", \"event_type\": \"purchase_sword\", \"Accept\": \"*/*\", \"User-Agent\": \"ApacheBench/2.3\", \"Cache-Control\": \"no-cache\"}|\n",
      "|{\"Host\": \"user1.comcast.com\", \"sword_type\": \"one_handed\", \"event_type\": \"purchase_sword\", \"Accept\": \"*/*\", \"User-Agent\": \"ApacheBench/2.3\"}|2020-12-08 02:36:15.818|{\"Host\": \"moe\", \"sword_type\": \"one_handed\", \"event_type\": \"purchase_sword\", \"Accept\": \"*/*\", \"User-Agent\": \"ApacheBench/2.3\", \"Cache-Control\": \"no-cache\"}|\n",
      "|{\"Host\": \"user1.comcast.com\", \"sword_type\": \"one_handed\", \"event_type\": \"purchase_sword\", \"Accept\": \"*/*\", \"User-Agent\": \"ApacheBench/2.3\"}|2020-12-08 02:36:15.821|{\"Host\": \"moe\", \"sword_type\": \"one_handed\", \"event_type\": \"purchase_sword\", \"Accept\": \"*/*\", \"User-Agent\": \"ApacheBench/2.3\", \"Cache-Control\": \"no-cache\"}|\n",
      "|{\"Host\": \"user1.comcast.com\", \"sword_type\": \"one_handed\", \"event_type\": \"purchase_sword\", \"Accept\": \"*/*\", \"User-Agent\": \"ApacheBench/2.3\"}|2020-12-08 02:36:15.824|{\"Host\": \"moe\", \"sword_type\": \"one_handed\", \"event_type\": \"purchase_sword\", \"Accept\": \"*/*\", \"User-Agent\": \"ApacheBench/2.3\", \"Cache-Control\": \"no-cache\"}|\n",
      "+-------------------------------------------------------------------------------------------------------------------------------------------+-----------------------+----------------------------------------------------------------------------------------------------------------------------------------------------------+\n",
      "only showing top 20 rows\n",
      "\n"
     ]
    }
   ],
   "source": [
    "munged_events.show(truncate=False)"
   ]
  },
  {
   "cell_type": "markdown",
   "metadata": {},
   "source": [
    "### We can't call a `.show()` on the following due to Schema issues that will be fixed in week 12"
   ]
  },
  {
   "cell_type": "code",
   "execution_count": 77,
   "metadata": {},
   "outputs": [],
   "source": [
    "extracted_events = munged_events \\\n",
    "        .rdd \\\n",
    "        .map(lambda r: Row(timestamp=r.timestamp, **json.loads(r.munged))) \\\n",
    "        .toDF()"
   ]
  },
  {
   "cell_type": "code",
   "execution_count": null,
   "metadata": {
    "collapsed": true
   },
   "outputs": [],
   "source": []
  },
  {
   "cell_type": "raw",
   "metadata": {},
   "source": [
    "sword_purchases = extracted_events \\\n",
    "        .filter(extracted_events.event_type == 'purchase_sword')"
   ]
  },
  {
   "cell_type": "markdown",
   "metadata": {},
   "source": [
    "## After week 12"
   ]
  },
  {
   "cell_type": "markdown",
   "metadata": {},
   "source": [
    "##### following code from https://github.com/mids-w205-crook/course-content/blob/master/12-Querying-Data-II/filtered_writes.py"
   ]
  },
  {
   "cell_type": "code",
   "execution_count": 106,
   "metadata": {
    "collapsed": true
   },
   "outputs": [],
   "source": [
    "import json\n",
    "from pyspark.sql import Row\n",
    "from pyspark.sql.functions import udf"
   ]
  },
  {
   "cell_type": "code",
   "execution_count": 107,
   "metadata": {
    "collapsed": true
   },
   "outputs": [],
   "source": [
    "# User defined function \n",
    "@udf('boolean')\n",
    "def is_purchase(event_as_json):\n",
    "    event = json.loads(event_as_json)\n",
    "    if event['event_type'] == 'purchase_sword':\n",
    "        return True\n",
    "    return False"
   ]
  },
  {
   "cell_type": "code",
   "execution_count": 108,
   "metadata": {
    "collapsed": true
   },
   "outputs": [],
   "source": [
    "raw_events = spark \\\n",
    "        .read \\\n",
    "        .format(\"kafka\") \\\n",
    "        .option(\"kafka.bootstrap.servers\", \"kafka:29092\") \\\n",
    "        .option(\"subscribe\", \"events\") \\\n",
    "        .option(\"startingOffsets\", \"earliest\") \\\n",
    "        .option(\"endingOffsets\", \"latest\") \\\n",
    "        .load()"
   ]
  },
  {
   "cell_type": "code",
   "execution_count": 109,
   "metadata": {
    "collapsed": true
   },
   "outputs": [],
   "source": [
    "purchase_events = raw_events \\\n",
    "        .select(raw_events.value.cast('string').alias('raw'),\n",
    "                raw_events.timestamp.cast('string')) \\\n",
    "        .filter(is_purchase('raw'))"
   ]
  },
  {
   "cell_type": "code",
   "execution_count": 110,
   "metadata": {
    "collapsed": true
   },
   "outputs": [],
   "source": [
    "extracted_purchase_events = purchase_events \\\n",
    "        .rdd \\\n",
    "        .map(lambda r: Row(timestamp=r.timestamp, **json.loads(r.raw))) \\\n",
    "        .toDF()"
   ]
  },
  {
   "cell_type": "code",
   "execution_count": 111,
   "metadata": {},
   "outputs": [
    {
     "name": "stdout",
     "output_type": "stream",
     "text": [
      "root\n",
      " |-- Accept: string (nullable = true)\n",
      " |-- Host: string (nullable = true)\n",
      " |-- User-Agent: string (nullable = true)\n",
      " |-- event_type: string (nullable = true)\n",
      " |-- sword_type: string (nullable = true)\n",
      " |-- timestamp: string (nullable = true)\n",
      "\n"
     ]
    }
   ],
   "source": [
    "extracted_purchase_events.printSchema()"
   ]
  },
  {
   "cell_type": "code",
   "execution_count": 112,
   "metadata": {},
   "outputs": [
    {
     "name": "stdout",
     "output_type": "stream",
     "text": [
      "+------+-----------------+---------------+--------------+----------+--------------------+\n",
      "|Accept|             Host|     User-Agent|    event_type|sword_type|           timestamp|\n",
      "+------+-----------------+---------------+--------------+----------+--------------------+\n",
      "|   */*|user1.comcast.com|ApacheBench/2.3|purchase_sword|one_handed|2020-12-08 02:36:...|\n",
      "|   */*|user1.comcast.com|ApacheBench/2.3|purchase_sword|one_handed|2020-12-08 02:36:...|\n",
      "|   */*|user1.comcast.com|ApacheBench/2.3|purchase_sword|one_handed|2020-12-08 02:36:...|\n",
      "|   */*|user1.comcast.com|ApacheBench/2.3|purchase_sword|one_handed|2020-12-08 02:36:...|\n",
      "|   */*|user1.comcast.com|ApacheBench/2.3|purchase_sword|one_handed|2020-12-08 02:36:...|\n",
      "|   */*|user1.comcast.com|ApacheBench/2.3|purchase_sword|one_handed|2020-12-08 02:36:...|\n",
      "|   */*|user1.comcast.com|ApacheBench/2.3|purchase_sword|one_handed|2020-12-08 02:36:...|\n",
      "|   */*|user1.comcast.com|ApacheBench/2.3|purchase_sword|one_handed|2020-12-08 02:36:...|\n",
      "|   */*|user1.comcast.com|ApacheBench/2.3|purchase_sword|one_handed|2020-12-08 02:36:...|\n",
      "|   */*|user1.comcast.com|ApacheBench/2.3|purchase_sword|one_handed|2020-12-08 02:36:...|\n",
      "|   */*|user1.comcast.com|ApacheBench/2.3|purchase_sword|one_handed|2020-12-08 02:36:...|\n",
      "|   */*|user1.comcast.com|ApacheBench/2.3|purchase_sword|one_handed|2020-12-08 02:36:...|\n",
      "|   */*|user1.comcast.com|ApacheBench/2.3|purchase_sword|one_handed|2020-12-08 02:36:...|\n",
      "|   */*|user1.comcast.com|ApacheBench/2.3|purchase_sword|one_handed|2020-12-08 02:36:...|\n",
      "|   */*|user1.comcast.com|ApacheBench/2.3|purchase_sword|one_handed|2020-12-08 02:36:...|\n",
      "|   */*|user1.comcast.com|ApacheBench/2.3|purchase_sword|one_handed|2020-12-08 02:36:...|\n",
      "|   */*|user1.comcast.com|ApacheBench/2.3|purchase_sword|one_handed|2020-12-08 02:36:...|\n",
      "|   */*|user1.comcast.com|ApacheBench/2.3|purchase_sword|one_handed|2020-12-08 02:36:...|\n",
      "|   */*|user1.comcast.com|ApacheBench/2.3|purchase_sword|one_handed|2020-12-08 02:36:...|\n",
      "|   */*|user1.comcast.com|ApacheBench/2.3|purchase_sword|one_handed|2020-12-08 02:36:...|\n",
      "+------+-----------------+---------------+--------------+----------+--------------------+\n",
      "only showing top 20 rows\n",
      "\n"
     ]
    }
   ],
   "source": [
    "extracted_purchase_events.show()"
   ]
  },
  {
   "cell_type": "code",
   "execution_count": 113,
   "metadata": {
    "collapsed": true
   },
   "outputs": [],
   "source": [
    "# parquet write it to tmp/purchases\n",
    "extracted_purchase_events \\\n",
    "        .write \\\n",
    "        .mode('overwrite') \\\n",
    "        .parquet('/tmp/purchases')"
   ]
  },
  {
   "cell_type": "markdown",
   "metadata": {},
   "source": [
    "#### PySpark code: https://github.com/kevin-crook-ucb/ucb_w205_crook_supplement/blob/master/2020_Fall/synch_12.md"
   ]
  },
  {
   "cell_type": "code",
   "execution_count": 114,
   "metadata": {
    "collapsed": true
   },
   "outputs": [],
   "source": [
    "# Read the parquet just wrote\n",
    "purchases = spark.read.parquet('/tmp/purchases')"
   ]
  },
  {
   "cell_type": "code",
   "execution_count": 115,
   "metadata": {},
   "outputs": [
    {
     "name": "stdout",
     "output_type": "stream",
     "text": [
      "+------+-----------------+---------------+--------------+----------+--------------------+\n",
      "|Accept|             Host|     User-Agent|    event_type|sword_type|           timestamp|\n",
      "+------+-----------------+---------------+--------------+----------+--------------------+\n",
      "|   */*|user1.comcast.com|ApacheBench/2.3|purchase_sword|one_handed|2020-12-08 02:36:...|\n",
      "|   */*|user1.comcast.com|ApacheBench/2.3|purchase_sword|one_handed|2020-12-08 02:36:...|\n",
      "|   */*|user1.comcast.com|ApacheBench/2.3|purchase_sword|one_handed|2020-12-08 02:36:...|\n",
      "|   */*|user1.comcast.com|ApacheBench/2.3|purchase_sword|one_handed|2020-12-08 02:36:...|\n",
      "|   */*|user1.comcast.com|ApacheBench/2.3|purchase_sword|one_handed|2020-12-08 02:36:...|\n",
      "|   */*|user1.comcast.com|ApacheBench/2.3|purchase_sword|one_handed|2020-12-08 02:36:...|\n",
      "|   */*|user1.comcast.com|ApacheBench/2.3|purchase_sword|one_handed|2020-12-08 02:36:...|\n",
      "|   */*|user1.comcast.com|ApacheBench/2.3|purchase_sword|one_handed|2020-12-08 02:36:...|\n",
      "|   */*|user1.comcast.com|ApacheBench/2.3|purchase_sword|one_handed|2020-12-08 02:36:...|\n",
      "|   */*|user1.comcast.com|ApacheBench/2.3|purchase_sword|one_handed|2020-12-08 02:36:...|\n",
      "|   */*|user1.comcast.com|ApacheBench/2.3|purchase_sword|one_handed|2020-12-08 02:36:...|\n",
      "|   */*|user1.comcast.com|ApacheBench/2.3|purchase_sword|one_handed|2020-12-08 02:36:...|\n",
      "|   */*|user1.comcast.com|ApacheBench/2.3|purchase_sword|one_handed|2020-12-08 02:36:...|\n",
      "|   */*|user1.comcast.com|ApacheBench/2.3|purchase_sword|one_handed|2020-12-08 02:36:...|\n",
      "|   */*|user1.comcast.com|ApacheBench/2.3|purchase_sword|one_handed|2020-12-08 02:36:...|\n",
      "|   */*|user1.comcast.com|ApacheBench/2.3|purchase_sword|one_handed|2020-12-08 02:36:...|\n",
      "|   */*|user1.comcast.com|ApacheBench/2.3|purchase_sword|one_handed|2020-12-08 02:36:...|\n",
      "|   */*|user1.comcast.com|ApacheBench/2.3|purchase_sword|one_handed|2020-12-08 02:36:...|\n",
      "|   */*|user1.comcast.com|ApacheBench/2.3|purchase_sword|one_handed|2020-12-08 02:36:...|\n",
      "|   */*|user1.comcast.com|ApacheBench/2.3|purchase_sword|one_handed|2020-12-08 02:36:...|\n",
      "+------+-----------------+---------------+--------------+----------+--------------------+\n",
      "only showing top 20 rows\n",
      "\n"
     ]
    }
   ],
   "source": [
    "purchases.show()"
   ]
  },
  {
   "cell_type": "code",
   "execution_count": 116,
   "metadata": {
    "collapsed": true
   },
   "outputs": [],
   "source": [
    "purchases.registerTempTable('purchases')"
   ]
  },
  {
   "cell_type": "code",
   "execution_count": 117,
   "metadata": {
    "collapsed": true
   },
   "outputs": [],
   "source": [
    "purchases_by_example2 = spark.sql(\"select * from purchases where Host = 'user1.comcast.com'\")"
   ]
  },
  {
   "cell_type": "code",
   "execution_count": 118,
   "metadata": {},
   "outputs": [
    {
     "name": "stdout",
     "output_type": "stream",
     "text": [
      "+------+-----------------+---------------+--------------+----------+--------------------+\n",
      "|Accept|             Host|     User-Agent|    event_type|sword_type|           timestamp|\n",
      "+------+-----------------+---------------+--------------+----------+--------------------+\n",
      "|   */*|user1.comcast.com|ApacheBench/2.3|purchase_sword|one_handed|2020-12-08 02:36:...|\n",
      "|   */*|user1.comcast.com|ApacheBench/2.3|purchase_sword|one_handed|2020-12-08 02:36:...|\n",
      "|   */*|user1.comcast.com|ApacheBench/2.3|purchase_sword|one_handed|2020-12-08 02:36:...|\n",
      "|   */*|user1.comcast.com|ApacheBench/2.3|purchase_sword|one_handed|2020-12-08 02:36:...|\n",
      "|   */*|user1.comcast.com|ApacheBench/2.3|purchase_sword|one_handed|2020-12-08 02:36:...|\n",
      "|   */*|user1.comcast.com|ApacheBench/2.3|purchase_sword|one_handed|2020-12-08 02:36:...|\n",
      "|   */*|user1.comcast.com|ApacheBench/2.3|purchase_sword|one_handed|2020-12-08 02:36:...|\n",
      "|   */*|user1.comcast.com|ApacheBench/2.3|purchase_sword|one_handed|2020-12-08 02:36:...|\n",
      "|   */*|user1.comcast.com|ApacheBench/2.3|purchase_sword|one_handed|2020-12-08 02:36:...|\n",
      "|   */*|user1.comcast.com|ApacheBench/2.3|purchase_sword|one_handed|2020-12-08 02:36:...|\n",
      "|   */*|user1.comcast.com|ApacheBench/2.3|purchase_sword|one_handed|2020-12-08 02:36:...|\n",
      "|   */*|user1.comcast.com|ApacheBench/2.3|purchase_sword|one_handed|2020-12-08 02:36:...|\n",
      "|   */*|user1.comcast.com|ApacheBench/2.3|purchase_sword|one_handed|2020-12-08 02:36:...|\n",
      "|   */*|user1.comcast.com|ApacheBench/2.3|purchase_sword|one_handed|2020-12-08 02:36:...|\n",
      "|   */*|user1.comcast.com|ApacheBench/2.3|purchase_sword|one_handed|2020-12-08 02:36:...|\n",
      "|   */*|user1.comcast.com|ApacheBench/2.3|purchase_sword|one_handed|2020-12-08 02:36:...|\n",
      "|   */*|user1.comcast.com|ApacheBench/2.3|purchase_sword|one_handed|2020-12-08 02:36:...|\n",
      "|   */*|user1.comcast.com|ApacheBench/2.3|purchase_sword|one_handed|2020-12-08 02:36:...|\n",
      "|   */*|user1.comcast.com|ApacheBench/2.3|purchase_sword|one_handed|2020-12-08 02:36:...|\n",
      "|   */*|user1.comcast.com|ApacheBench/2.3|purchase_sword|one_handed|2020-12-08 02:36:...|\n",
      "+------+-----------------+---------------+--------------+----------+--------------------+\n",
      "only showing top 20 rows\n",
      "\n"
     ]
    }
   ],
   "source": [
    "purchases_by_example2.show()"
   ]
  },
  {
   "cell_type": "code",
   "execution_count": 119,
   "metadata": {
    "collapsed": true
   },
   "outputs": [],
   "source": [
    "df = purchases_by_example2.toPandas()"
   ]
  },
  {
   "cell_type": "code",
   "execution_count": 120,
   "metadata": {},
   "outputs": [
    {
     "data": {
      "text/html": [
       "<div>\n",
       "<style>\n",
       "    .dataframe thead tr:only-child th {\n",
       "        text-align: right;\n",
       "    }\n",
       "\n",
       "    .dataframe thead th {\n",
       "        text-align: left;\n",
       "    }\n",
       "\n",
       "    .dataframe tbody tr th {\n",
       "        vertical-align: top;\n",
       "    }\n",
       "</style>\n",
       "<table border=\"1\" class=\"dataframe\">\n",
       "  <thead>\n",
       "    <tr style=\"text-align: right;\">\n",
       "      <th></th>\n",
       "      <th>Accept</th>\n",
       "      <th>Host</th>\n",
       "      <th>User-Agent</th>\n",
       "      <th>event_type</th>\n",
       "      <th>sword_type</th>\n",
       "      <th>timestamp</th>\n",
       "    </tr>\n",
       "  </thead>\n",
       "  <tbody>\n",
       "    <tr>\n",
       "      <th>count</th>\n",
       "      <td>2150</td>\n",
       "      <td>2150</td>\n",
       "      <td>2150</td>\n",
       "      <td>2150</td>\n",
       "      <td>2150</td>\n",
       "      <td>2150</td>\n",
       "    </tr>\n",
       "    <tr>\n",
       "      <th>unique</th>\n",
       "      <td>1</td>\n",
       "      <td>1</td>\n",
       "      <td>1</td>\n",
       "      <td>1</td>\n",
       "      <td>1</td>\n",
       "      <td>2150</td>\n",
       "    </tr>\n",
       "    <tr>\n",
       "      <th>top</th>\n",
       "      <td>*/*</td>\n",
       "      <td>user1.comcast.com</td>\n",
       "      <td>ApacheBench/2.3</td>\n",
       "      <td>purchase_sword</td>\n",
       "      <td>one_handed</td>\n",
       "      <td>2020-12-08 03:35:01.726</td>\n",
       "    </tr>\n",
       "    <tr>\n",
       "      <th>freq</th>\n",
       "      <td>2150</td>\n",
       "      <td>2150</td>\n",
       "      <td>2150</td>\n",
       "      <td>2150</td>\n",
       "      <td>2150</td>\n",
       "      <td>1</td>\n",
       "    </tr>\n",
       "  </tbody>\n",
       "</table>\n",
       "</div>"
      ],
      "text/plain": [
       "       Accept               Host       User-Agent      event_type  sword_type  \\\n",
       "count    2150               2150             2150            2150        2150   \n",
       "unique      1                  1                1               1           1   \n",
       "top       */*  user1.comcast.com  ApacheBench/2.3  purchase_sword  one_handed   \n",
       "freq     2150               2150             2150            2150        2150   \n",
       "\n",
       "                      timestamp  \n",
       "count                      2150  \n",
       "unique                     2150  \n",
       "top     2020-12-08 03:35:01.726  \n",
       "freq                          1  "
      ]
     },
     "execution_count": 120,
     "metadata": {},
     "output_type": "execute_result"
    }
   ],
   "source": [
    "df.describe()"
   ]
  },
  {
   "cell_type": "markdown",
   "metadata": {},
   "source": [
    "## Simple Spark SQL analytics on Spark Dataframe in Memory"
   ]
  },
  {
   "cell_type": "markdown",
   "metadata": {},
   "source": [
    "- How many times did user 1 Purchase a Sword?"
   ]
  },
  {
   "cell_type": "code",
   "execution_count": 121,
   "metadata": {},
   "outputs": [
    {
     "name": "stdout",
     "output_type": "stream",
     "text": [
      "+--------+\n",
      "|count(1)|\n",
      "+--------+\n",
      "|    2150|\n",
      "+--------+\n",
      "\n"
     ]
    }
   ],
   "source": [
    "purchases_user1 = spark.sql(\"select count(*) from purchases where Host = 'user1.comcast.com'\")\n",
    "purchases_user1.show()"
   ]
  },
  {
   "cell_type": "markdown",
   "metadata": {},
   "source": [
    "- How many times did user 2 Purchase a Sword?"
   ]
  },
  {
   "cell_type": "code",
   "execution_count": 122,
   "metadata": {},
   "outputs": [
    {
     "name": "stdout",
     "output_type": "stream",
     "text": [
      "+--------+\n",
      "|count(1)|\n",
      "+--------+\n",
      "|     130|\n",
      "+--------+\n",
      "\n"
     ]
    }
   ],
   "source": [
    "purchases_user2 = spark.sql(\"select count(*) from purchases where Host = 'user2.att.com'\")\n",
    "purchases_user2.show()"
   ]
  },
  {
   "cell_type": "markdown",
   "metadata": {},
   "source": [
    "- How many total Sword Purchases? (since there are only 2 users, this should be a sum of the previous two queries. "
   ]
  },
  {
   "cell_type": "code",
   "execution_count": 123,
   "metadata": {},
   "outputs": [
    {
     "name": "stdout",
     "output_type": "stream",
     "text": [
      "+--------+\n",
      "|count(1)|\n",
      "+--------+\n",
      "|    2280|\n",
      "+--------+\n",
      "\n"
     ]
    }
   ],
   "source": [
    "purchases_total = spark.sql(\"select count(*) from purchases\")\n",
    "purchases_total.show()"
   ]
  },
  {
   "cell_type": "markdown",
   "metadata": {},
   "source": [
    "# After Week 13\n",
    "#### Following code from: https://github.com/mids-w205-crook/course-content/blob/master/13-Understanding-Data/write_swords_stream.py"
   ]
  },
  {
   "cell_type": "code",
   "execution_count": 124,
   "metadata": {
    "collapsed": true
   },
   "outputs": [],
   "source": [
    "import json\n",
    "from pyspark.sql.functions import udf, from_json\n",
    "from pyspark.sql.types import StructType, StructField, StringType"
   ]
  },
  {
   "cell_type": "code",
   "execution_count": 125,
   "metadata": {
    "collapsed": true
   },
   "outputs": [],
   "source": [
    "# func to impose schema\n",
    "def purchase_sword_event_schema():\n",
    "    \"\"\"\n",
    "    root\n",
    "    |-- Accept: string (nullable = true)\n",
    "    |-- Host: string (nullable = true)\n",
    "    |-- User-Agent: string (nullable = true)\n",
    "    |-- event_type: string (nullable = true)\n",
    "    |-- timestamp: string (nullable = true)\n",
    "    \"\"\"\n",
    "    return StructType([\n",
    "        StructField(\"Accept\", StringType(), True),\n",
    "        StructField(\"Host\", StringType(), True),\n",
    "        StructField(\"User-Agent\", StringType(), True),\n",
    "        StructField(\"event_type\", StringType(), True),\n",
    "    ])"
   ]
  },
  {
   "cell_type": "code",
   "execution_count": 126,
   "metadata": {
    "collapsed": true
   },
   "outputs": [],
   "source": [
    "# User defined function\n",
    "@udf('boolean')\n",
    "def is_sword_purchase(event_as_json):\n",
    "    \"\"\"udf for filtering events\n",
    "    \"\"\"\n",
    "    event = json.loads(event_as_json)\n",
    "    if event['event_type'] == 'purchase_sword':\n",
    "        return True\n",
    "    return False"
   ]
  },
  {
   "cell_type": "code",
   "execution_count": 127,
   "metadata": {
    "collapsed": true
   },
   "outputs": [],
   "source": [
    "# New way to pull out raw events\n",
    "raw_events = spark \\\n",
    "        .readStream \\\n",
    "        .format(\"kafka\") \\\n",
    "        .option(\"kafka.bootstrap.servers\", \"kafka:29092\") \\\n",
    "        .option(\"subscribe\", \"events\") \\\n",
    "        .load()"
   ]
  },
  {
   "cell_type": "code",
   "execution_count": 128,
   "metadata": {
    "collapsed": true
   },
   "outputs": [],
   "source": [
    "# Filtering first, then imposing schema\n",
    "sword_purchases = raw_events \\\n",
    "        .filter(is_sword_purchase(raw_events.value.cast('string'))) \\\n",
    "        .select(raw_events.value.cast('string').alias('raw_event'),\n",
    "                raw_events.timestamp.cast('string'),\n",
    "                from_json(raw_events.value.cast('string'),\n",
    "                          purchase_sword_event_schema()).alias('json')) \\\n",
    "        .select('raw_event', 'timestamp', 'json.*')"
   ]
  },
  {
   "cell_type": "code",
   "execution_count": 139,
   "metadata": {
    "scrolled": true
   },
   "outputs": [],
   "source": [
    "# Notice .start() is in here, will get it to start\n",
    "sink = sword_purchases \\\n",
    "        .writeStream \\\n",
    "        .format(\"parquet\") \\\n",
    "        .option(\"checkpointLocation\", \"/tmp/checkpoints_for_sword_purchases\") \\\n",
    "        .option(\"path\", \"/tmp/sword_purchases\") \\\n",
    "        .trigger(processingTime=\"10 seconds\") \\\n",
    "        .start()"
   ]
  },
  {
   "cell_type": "code",
   "execution_count": 138,
   "metadata": {
    "collapsed": true
   },
   "outputs": [],
   "source": [
    "# Run IF you want to stop\n",
    "sink.stop()"
   ]
  },
  {
   "cell_type": "code",
   "execution_count": null,
   "metadata": {
    "collapsed": true
   },
   "outputs": [],
   "source": []
  }
 ],
 "metadata": {
  "kernelspec": {
   "display_name": "Python 3",
   "language": "python",
   "name": "python3"
  },
  "language_info": {
   "codemirror_mode": {
    "name": "ipython",
    "version": 3
   },
   "file_extension": ".py",
   "mimetype": "text/x-python",
   "name": "python",
   "nbconvert_exporter": "python",
   "pygments_lexer": "ipython3",
   "version": "3.6.1"
  }
 },
 "nbformat": 4,
 "nbformat_minor": 2
}
