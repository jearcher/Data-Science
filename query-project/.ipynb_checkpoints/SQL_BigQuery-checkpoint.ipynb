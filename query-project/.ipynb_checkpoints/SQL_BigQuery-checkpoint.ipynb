{
 "cells": [
  {
   "cell_type": "code",
   "execution_count": 39,
   "metadata": {},
   "outputs": [
    {
     "name": "stdout",
     "output_type": "stream",
     "text": [
      "Requirement already up-to-date: google-cloud-bigquery[bqstorage,pandas] in /opt/conda/lib/python3.7/site-packages (1.28.0)\n",
      "Requirement already satisfied, skipping upgrade: google-api-core<2.0dev,>=1.21.0 in /opt/conda/lib/python3.7/site-packages (from google-cloud-bigquery[bqstorage,pandas]) (1.22.1)\n",
      "Requirement already satisfied, skipping upgrade: google-resumable-media<2.0dev,>=0.6.0 in /opt/conda/lib/python3.7/site-packages (from google-cloud-bigquery[bqstorage,pandas]) (0.7.1)\n",
      "Requirement already satisfied, skipping upgrade: six<2.0.0dev,>=1.13.0 in /opt/conda/lib/python3.7/site-packages (from google-cloud-bigquery[bqstorage,pandas]) (1.15.0)\n",
      "Requirement already satisfied, skipping upgrade: google-cloud-core<2.0dev,>=1.4.1 in /opt/conda/lib/python3.7/site-packages (from google-cloud-bigquery[bqstorage,pandas]) (1.4.1)\n",
      "Requirement already satisfied, skipping upgrade: google-cloud-bigquery-storage<2.0.0dev,>=1.0.0; extra == \"bqstorage\" in /opt/conda/lib/python3.7/site-packages (from google-cloud-bigquery[bqstorage,pandas]) (1.1.0)\n",
      "Requirement already satisfied, skipping upgrade: grpcio<2.0dev,>=1.32.0; extra == \"bqstorage\" in /opt/conda/lib/python3.7/site-packages (from google-cloud-bigquery[bqstorage,pandas]) (1.32.0)\n",
      "Requirement already satisfied, skipping upgrade: pyarrow<2.0dev,>=1.0.0; extra == \"bqstorage\" in /opt/conda/lib/python3.7/site-packages (from google-cloud-bigquery[bqstorage,pandas]) (1.0.1)\n",
      "Requirement already satisfied, skipping upgrade: pandas>=0.23.0; extra == \"pandas\" in /opt/conda/lib/python3.7/site-packages (from google-cloud-bigquery[bqstorage,pandas]) (1.1.1)\n",
      "Requirement already satisfied, skipping upgrade: requests<3.0.0dev,>=2.18.0 in /opt/conda/lib/python3.7/site-packages (from google-api-core<2.0dev,>=1.21.0->google-cloud-bigquery[bqstorage,pandas]) (2.24.0)\n",
      "Requirement already satisfied, skipping upgrade: setuptools>=34.0.0 in /opt/conda/lib/python3.7/site-packages (from google-api-core<2.0dev,>=1.21.0->google-cloud-bigquery[bqstorage,pandas]) (49.6.0.post20200814)\n",
      "Requirement already satisfied, skipping upgrade: google-auth<2.0dev,>=1.19.1 in /opt/conda/lib/python3.7/site-packages (from google-api-core<2.0dev,>=1.21.0->google-cloud-bigquery[bqstorage,pandas]) (1.20.1)\n",
      "Requirement already satisfied, skipping upgrade: pytz in /opt/conda/lib/python3.7/site-packages (from google-api-core<2.0dev,>=1.21.0->google-cloud-bigquery[bqstorage,pandas]) (2020.1)\n",
      "Requirement already satisfied, skipping upgrade: protobuf>=3.12.0 in /opt/conda/lib/python3.7/site-packages (from google-api-core<2.0dev,>=1.21.0->google-cloud-bigquery[bqstorage,pandas]) (3.13.0)\n",
      "Requirement already satisfied, skipping upgrade: googleapis-common-protos<2.0dev,>=1.6.0 in /opt/conda/lib/python3.7/site-packages (from google-api-core<2.0dev,>=1.21.0->google-cloud-bigquery[bqstorage,pandas]) (1.51.0)\n",
      "Requirement already satisfied, skipping upgrade: google-crc32c<0.2dev,>=0.1.0; python_version >= \"3.5\" in /opt/conda/lib/python3.7/site-packages (from google-resumable-media<2.0dev,>=0.6.0->google-cloud-bigquery[bqstorage,pandas]) (0.1.0)\n",
      "Requirement already satisfied, skipping upgrade: numpy>=1.14 in /opt/conda/lib/python3.7/site-packages (from pyarrow<2.0dev,>=1.0.0; extra == \"bqstorage\"->google-cloud-bigquery[bqstorage,pandas]) (1.18.5)\n",
      "Requirement already satisfied, skipping upgrade: python-dateutil>=2.7.3 in /opt/conda/lib/python3.7/site-packages (from pandas>=0.23.0; extra == \"pandas\"->google-cloud-bigquery[bqstorage,pandas]) (2.8.1)\n",
      "Requirement already satisfied, skipping upgrade: urllib3!=1.25.0,!=1.25.1,<1.26,>=1.21.1 in /opt/conda/lib/python3.7/site-packages (from requests<3.0.0dev,>=2.18.0->google-api-core<2.0dev,>=1.21.0->google-cloud-bigquery[bqstorage,pandas]) (1.25.10)\n",
      "Requirement already satisfied, skipping upgrade: idna<3,>=2.5 in /opt/conda/lib/python3.7/site-packages (from requests<3.0.0dev,>=2.18.0->google-api-core<2.0dev,>=1.21.0->google-cloud-bigquery[bqstorage,pandas]) (2.10)\n",
      "Requirement already satisfied, skipping upgrade: chardet<4,>=3.0.2 in /opt/conda/lib/python3.7/site-packages (from requests<3.0.0dev,>=2.18.0->google-api-core<2.0dev,>=1.21.0->google-cloud-bigquery[bqstorage,pandas]) (3.0.4)\n",
      "Requirement already satisfied, skipping upgrade: certifi>=2017.4.17 in /opt/conda/lib/python3.7/site-packages (from requests<3.0.0dev,>=2.18.0->google-api-core<2.0dev,>=1.21.0->google-cloud-bigquery[bqstorage,pandas]) (2020.6.20)\n",
      "Requirement already satisfied, skipping upgrade: pyasn1-modules>=0.2.1 in /opt/conda/lib/python3.7/site-packages (from google-auth<2.0dev,>=1.19.1->google-api-core<2.0dev,>=1.21.0->google-cloud-bigquery[bqstorage,pandas]) (0.2.8)\n",
      "Requirement already satisfied, skipping upgrade: cachetools<5.0,>=2.0.0 in /opt/conda/lib/python3.7/site-packages (from google-auth<2.0dev,>=1.19.1->google-api-core<2.0dev,>=1.21.0->google-cloud-bigquery[bqstorage,pandas]) (4.1.1)\n",
      "Requirement already satisfied, skipping upgrade: rsa<5,>=3.1.4; python_version >= \"3.5\" in /opt/conda/lib/python3.7/site-packages (from google-auth<2.0dev,>=1.19.1->google-api-core<2.0dev,>=1.21.0->google-cloud-bigquery[bqstorage,pandas]) (4.6)\n",
      "Requirement already satisfied, skipping upgrade: cffi>=1.0.0 in /opt/conda/lib/python3.7/site-packages (from google-crc32c<0.2dev,>=0.1.0; python_version >= \"3.5\"->google-resumable-media<2.0dev,>=0.6.0->google-cloud-bigquery[bqstorage,pandas]) (1.14.1)\n",
      "Requirement already satisfied, skipping upgrade: pyasn1<0.5.0,>=0.4.6 in /opt/conda/lib/python3.7/site-packages (from pyasn1-modules>=0.2.1->google-auth<2.0dev,>=1.19.1->google-api-core<2.0dev,>=1.21.0->google-cloud-bigquery[bqstorage,pandas]) (0.4.8)\n",
      "Requirement already satisfied, skipping upgrade: pycparser in /opt/conda/lib/python3.7/site-packages (from cffi>=1.0.0->google-crc32c<0.2dev,>=0.1.0; python_version >= \"3.5\"->google-resumable-media<2.0dev,>=0.6.0->google-cloud-bigquery[bqstorage,pandas]) (2.20)\n"
     ]
    }
   ],
   "source": [
    "import pandas as pd\n",
    "import matplotlib.pyplot as plt\n",
    "import sys\n",
    "!{sys.executable} -m pip install -U google-cloud-bigquery[bqstorage,pandas]"
   ]
  },
  {
   "cell_type": "markdown",
   "metadata": {},
   "source": [
    "## What are the five most popular trips you would call commuter trips?\n",
    "\n",
    "I noticed earlier than most trips are between 5-30, I also think that this could be the commuter trips. I would like to subset the data to exclude very short trips and very long trips and to exclude any trips that start and stop at the same station: \n",
    "\n",
    "First I run the following and save it as a view in Big Query. This selects trips where the start and end stations are different. It also adds some better features to describe the duration of the trip and extracts the hour from the start day as ```start_hour``` and uses start hour to identify morning commute times (8-11am) and evening commute times (4-7pm). I saved this view as ```ipynb1```:\n",
    "\n",
    "```SQL\n",
    "SELECT start_station_name , end_station_name, \n",
    "       EXTRACT(HOUR FROM start_date) AS start_hour,\n",
    "       CASE \n",
    "           WHEN EXTRACT(HOUR FROM start_date)  >= 8 AND EXTRACT(HOUR FROM start_date) <= 11 THEN \"Morning Commute\"\n",
    "           WHEN EXTRACT(HOUR FROM start_date) >= 16 AND EXTRACT(HOUR FROM start_date) <= 19 THEN \"Evening Commute\"   \n",
    "           END AS commute_time,\n",
    "CAST(ROUND(duration_sec / 60.0) AS INT64) AS duration_minutes,\n",
    "       CAST(ROUND(duration_sec / 3600.0) AS INT64) AS duration_hours_rounded,\n",
    "       ROUND(duration_sec / 3600.0, 1) AS duration_hours_tenths\n",
    "FROM `bigquery-public-data.san_francisco.bikeshare_trips`\n",
    "WHERE start_station_id  <> end_station_id\n",
    "ORDER BY duration_minutes DESC\n",
    "```\n",
    "\n",
    "Now, for the top 5 commuter trips, I will query this view (```ipynb```) to select only trips during commuter hours which I define as between 8am-11am and 4pm - 7pm and to sum them."
   ]
  },
  {
   "cell_type": "code",
   "execution_count": 42,
   "metadata": {},
   "outputs": [
    {
     "name": "stdout",
     "output_type": "stream",
     "text": [
      "Waiting on bqjob_r31972f671a595d_00000174db93dd5b_1 ... (0s) Current status: DONE   \n"
     ]
    }
   ],
   "source": [
    "! bq query --use_legacy_sql=FALSE --format=csv 'SELECT start_station_name, end_station_name, commute_time, count(*) as trip_freq FROM `september2020-288123.bike_trip_data.ipynb1` GROUP BY commute_time, start_station_name, end_station_name ORDER BY trip_freq DESC LIMIT 20' > commuter_trips.csv"
   ]
  },
  {
   "cell_type": "code",
   "execution_count": 44,
   "metadata": {},
   "outputs": [
    {
     "data": {
      "text/html": [
       "<div>\n",
       "<style scoped>\n",
       "    .dataframe tbody tr th:only-of-type {\n",
       "        vertical-align: middle;\n",
       "    }\n",
       "\n",
       "    .dataframe tbody tr th {\n",
       "        vertical-align: top;\n",
       "    }\n",
       "\n",
       "    .dataframe thead th {\n",
       "        text-align: right;\n",
       "    }\n",
       "</style>\n",
       "<table border=\"1\" class=\"dataframe\">\n",
       "  <thead>\n",
       "    <tr style=\"text-align: right;\">\n",
       "      <th></th>\n",
       "      <th>start_station_name</th>\n",
       "      <th>end_station_name</th>\n",
       "      <th>commute_time</th>\n",
       "      <th>trip_freq</th>\n",
       "    </tr>\n",
       "  </thead>\n",
       "  <tbody>\n",
       "    <tr>\n",
       "      <th>0</th>\n",
       "      <td>2nd at Townsend</td>\n",
       "      <td>Harry Bridges Plaza (Ferry Building)</td>\n",
       "      <td>Evening Commute</td>\n",
       "      <td>4456</td>\n",
       "    </tr>\n",
       "    <tr>\n",
       "      <th>1</th>\n",
       "      <td>Embarcadero at Sansome</td>\n",
       "      <td>Steuart at Market</td>\n",
       "      <td>Evening Commute</td>\n",
       "      <td>4282</td>\n",
       "    </tr>\n",
       "    <tr>\n",
       "      <th>2</th>\n",
       "      <td>Embarcadero at Folsom</td>\n",
       "      <td>San Francisco Caltrain (Townsend at 4th)</td>\n",
       "      <td>Evening Commute</td>\n",
       "      <td>4180</td>\n",
       "    </tr>\n",
       "    <tr>\n",
       "      <th>3</th>\n",
       "      <td>Harry Bridges Plaza (Ferry Building)</td>\n",
       "      <td>2nd at Townsend</td>\n",
       "      <td>Morning Commute</td>\n",
       "      <td>4028</td>\n",
       "    </tr>\n",
       "    <tr>\n",
       "      <th>4</th>\n",
       "      <td>San Francisco Caltrain 2 (330 Townsend)</td>\n",
       "      <td>Townsend at 7th</td>\n",
       "      <td>Morning Commute</td>\n",
       "      <td>3845</td>\n",
       "    </tr>\n",
       "  </tbody>\n",
       "</table>\n",
       "</div>"
      ],
      "text/plain": [
       "                        start_station_name  \\\n",
       "0                          2nd at Townsend   \n",
       "1                   Embarcadero at Sansome   \n",
       "2                    Embarcadero at Folsom   \n",
       "3     Harry Bridges Plaza (Ferry Building)   \n",
       "4  San Francisco Caltrain 2 (330 Townsend)   \n",
       "\n",
       "                           end_station_name     commute_time  trip_freq  \n",
       "0      Harry Bridges Plaza (Ferry Building)  Evening Commute       4456  \n",
       "1                         Steuart at Market  Evening Commute       4282  \n",
       "2  San Francisco Caltrain (Townsend at 4th)  Evening Commute       4180  \n",
       "3                           2nd at Townsend  Morning Commute       4028  \n",
       "4                           Townsend at 7th  Morning Commute       3845  "
      ]
     },
     "execution_count": 44,
     "metadata": {},
     "output_type": "execute_result"
    },
    {
     "data": {
      "image/png": "[encoded data removed]",
      "text/plain": [
       "<Figure size 432x288 with 1 Axes>"
      ]
     },
     "metadata": {
      "needs_background": "light"
     },
     "output_type": "display_data"
    }
   ],
   "source": [
    "commuter_trips = pd.read_csv('commuter_trips.csv')\n",
    "\n",
    "commuter_trips.hist()\n",
    "commuter_trips.head()"
   ]
  },
  {
   "cell_type": "markdown",
   "metadata": {},
   "source": [
    "From this query I expressed what I consider the top 5 commuter trips as a pandas dataframe. The histogram shows (vertically) the number of stations that have (horizontally) a particular frequency of trips during commuter hours.\n",
    "\n",
    "I ensured that the start station and end station are distinct-- since commuting is characterized by going from one station to another. "
   ]
  },
  {
   "cell_type": "markdown",
   "metadata": {},
   "source": [
    "## What are your recommendations for offers (justify based on your findings)?\n",
    "- **Focus station/bike expansion in downtown San Francisco**\n",
    "    From the 84 stations locations, (query to find all station names:\n",
    "    ```sql\n",
    "    SELECT distinct(start_station_name)\n",
    "    FROM `bigquery-public-data.san_francisco.bikeshare_trips`\n",
    "    ```\n",
    "    ) any expansion should be focused on downtown san francsico. Looking at the histogram and table produced above, there are only five stations with over 3800 trips during either morning or evening commuter hours (of the top five, trips between 2nd and townsend and harry bridges plaza's morning and evening commute are in the top five).\n",
    "    \n",
    "   There are many stations with 3250-3750 trips during thes ecommuter hours. For these resons I think expansion should be focused in the downtown San Francisco area to increase capacity and accomodate more riders. \n",
    "   \n",
    "   "
   ]
  },
  {
   "cell_type": "code",
   "execution_count": null,
   "metadata": {},
   "outputs": [],
   "source": []
  },
  {
   "cell_type": "markdown",
   "metadata": {},
   "source": [
    "- **Offer incentives to riders to move bikes to high-demand stations**\n",
    "   I saved the following query as a view called ```ipynb2```. This query subsets the 'bike status' dataset which provides information on how many bikes and docks are available at a particular time. I subset this to only inspect the bikeshare status during my predefined commuter times. :\n",
    "   \n",
    " ```sql\n",
    "   SELECT station_id, bikes_available, docks_available,\n",
    "EXTRACT(HOUR FROM time) AS time,\n",
    "       CASE \n",
    "           WHEN EXTRACT(HOUR FROM time)  >= 8 AND EXTRACT(HOUR FROM time) <= 11 THEN \"Morning Commute\"\n",
    "           WHEN EXTRACT(HOUR FROM time) >= 16 AND EXTRACT(HOUR FROM time) <= 19 THEN \"Evening Commute\" \n",
    "           end as commute_time\n",
    "FrOM `bigquery-public-data.san_francisco.bikeshare_status` \n",
    "WHERE (EXTRACT(HOUR FROM time)  >= 8 AND EXTRACT(HOUR FROM time) <= 11)\n",
    "OR (EXTRACT(HOUR FROM time) >= 16 AND EXTRACT(HOUR FROM time) <= 19)\n",
    "```\n",
    "\n",
    "\n",
    "Now If I want to look at the status of the busiest stations, I can run the following query and select only the top stations. I will select 2nd and townsend and Harry Bridges plaza to check the bikeshare status during commute times. Running the following query will yield the respection station IDs:\n",
    "\n",
    "```sql\n",
    "SELECT *\n",
    "FROM `bigquery-public-data.san_francisco.bikeshare_stations`\n",
    "WHERE name  = 'Harry Bridges Plaza (Ferry Building)' or name = '2nd at Townsend'\n",
    "```\n",
    "Then, I will run the following query top check out the status during the busy times. This will let me know how often there are no bikes available during commuting hours at the two most busy stations\n",
    "```sql\n",
    "SELECT count(*)\n",
    "FROM `september2020-288123.bike_trip_data.ipynb2` \n",
    "where (station_id = 50 or station_id=61) AND bikes_available = 0\n",
    "```\n",
    "Which yields 17,896. This means that there are 0 bikes at our busiest stations during 4% of the commuter hours. \n",
    "Due to this we should offer incentives (discounts, credits, etc) for riders who pick up bikes from other stations and drop them off at the commuter stations before/during peak commuter hours. We can then incentivize riders to pick up bikes at other stations and decrease the amount of timne during commuter hours when we have no capacity. "
   ]
  },
  {
   "cell_type": "markdown",
   "metadata": {},
   "source": [
    "I also wanted to inspect the average number of bikes available oprganized by hour of the day\n",
    "```sql\n",
    "SELECT avg(bikes_available) as avg_bikes_avail,  \n",
    "  EXTRACT(HOUR FROM time) AS time, \n",
    "FROM `bigquery-public-data.san_francisco.bikeshare_status`  \n",
    "GROUP BY time \n",
    "ORDER BY time ASC\n",
    "```"
   ]
  },
  {
   "cell_type": "code",
   "execution_count": 56,
   "metadata": {},
   "outputs": [
    {
     "name": "stdout",
     "output_type": "stream",
     "text": [
      "Waiting on bqjob_rdf37be6709dd01_00000174db9e623b_1 ... (9s) Current status: DONE   \n"
     ]
    }
   ],
   "source": [
    "! bq query --use_legacy_sql=FALSE --format=csv 'SELECT avg(bikes_available) as avg_bikes_avail,  EXTRACT(HOUR FROM time) AS time, FrOM `bigquery-public-data.san_francisco.bikeshare_status`  GROUP BY time ORDER BY time ASC' > bike_availability.csv"
   ]
  },
  {
   "cell_type": "code",
   "execution_count": 57,
   "metadata": {},
   "outputs": [
    {
     "data": {
      "text/html": [
       "<div>\n",
       "<style scoped>\n",
       "    .dataframe tbody tr th:only-of-type {\n",
       "        vertical-align: middle;\n",
       "    }\n",
       "\n",
       "    .dataframe tbody tr th {\n",
       "        vertical-align: top;\n",
       "    }\n",
       "\n",
       "    .dataframe thead th {\n",
       "        text-align: right;\n",
       "    }\n",
       "</style>\n",
       "<table border=\"1\" class=\"dataframe\">\n",
       "  <thead>\n",
       "    <tr style=\"text-align: right;\">\n",
       "      <th></th>\n",
       "      <th>avg_bikes_avail</th>\n",
       "      <th>time</th>\n",
       "    </tr>\n",
       "  </thead>\n",
       "  <tbody>\n",
       "    <tr>\n",
       "      <th>0</th>\n",
       "      <td>8.407186</td>\n",
       "      <td>0</td>\n",
       "    </tr>\n",
       "    <tr>\n",
       "      <th>1</th>\n",
       "      <td>8.409084</td>\n",
       "      <td>1</td>\n",
       "    </tr>\n",
       "    <tr>\n",
       "      <th>2</th>\n",
       "      <td>8.409238</td>\n",
       "      <td>2</td>\n",
       "    </tr>\n",
       "    <tr>\n",
       "      <th>3</th>\n",
       "      <td>8.410893</td>\n",
       "      <td>3</td>\n",
       "    </tr>\n",
       "    <tr>\n",
       "      <th>4</th>\n",
       "      <td>8.412339</td>\n",
       "      <td>4</td>\n",
       "    </tr>\n",
       "    <tr>\n",
       "      <th>5</th>\n",
       "      <td>8.404006</td>\n",
       "      <td>5</td>\n",
       "    </tr>\n",
       "    <tr>\n",
       "      <th>6</th>\n",
       "      <td>8.336654</td>\n",
       "      <td>6</td>\n",
       "    </tr>\n",
       "    <tr>\n",
       "      <th>7</th>\n",
       "      <td>8.140349</td>\n",
       "      <td>7</td>\n",
       "    </tr>\n",
       "    <tr>\n",
       "      <th>8</th>\n",
       "      <td>8.006245</td>\n",
       "      <td>8</td>\n",
       "    </tr>\n",
       "    <tr>\n",
       "      <th>9</th>\n",
       "      <td>8.040950</td>\n",
       "      <td>9</td>\n",
       "    </tr>\n",
       "    <tr>\n",
       "      <th>10</th>\n",
       "      <td>8.134646</td>\n",
       "      <td>10</td>\n",
       "    </tr>\n",
       "    <tr>\n",
       "      <th>11</th>\n",
       "      <td>8.142505</td>\n",
       "      <td>11</td>\n",
       "    </tr>\n",
       "    <tr>\n",
       "      <th>12</th>\n",
       "      <td>8.138733</td>\n",
       "      <td>12</td>\n",
       "    </tr>\n",
       "    <tr>\n",
       "      <th>13</th>\n",
       "      <td>8.188455</td>\n",
       "      <td>13</td>\n",
       "    </tr>\n",
       "    <tr>\n",
       "      <th>14</th>\n",
       "      <td>8.194718</td>\n",
       "      <td>14</td>\n",
       "    </tr>\n",
       "    <tr>\n",
       "      <th>15</th>\n",
       "      <td>8.128258</td>\n",
       "      <td>15</td>\n",
       "    </tr>\n",
       "    <tr>\n",
       "      <th>16</th>\n",
       "      <td>8.012226</td>\n",
       "      <td>16</td>\n",
       "    </tr>\n",
       "    <tr>\n",
       "      <th>17</th>\n",
       "      <td>7.867910</td>\n",
       "      <td>17</td>\n",
       "    </tr>\n",
       "    <tr>\n",
       "      <th>18</th>\n",
       "      <td>7.971772</td>\n",
       "      <td>18</td>\n",
       "    </tr>\n",
       "    <tr>\n",
       "      <th>19</th>\n",
       "      <td>8.167281</td>\n",
       "      <td>19</td>\n",
       "    </tr>\n",
       "    <tr>\n",
       "      <th>20</th>\n",
       "      <td>8.274047</td>\n",
       "      <td>20</td>\n",
       "    </tr>\n",
       "    <tr>\n",
       "      <th>21</th>\n",
       "      <td>8.358406</td>\n",
       "      <td>21</td>\n",
       "    </tr>\n",
       "    <tr>\n",
       "      <th>22</th>\n",
       "      <td>8.390087</td>\n",
       "      <td>22</td>\n",
       "    </tr>\n",
       "    <tr>\n",
       "      <th>23</th>\n",
       "      <td>8.400429</td>\n",
       "      <td>23</td>\n",
       "    </tr>\n",
       "  </tbody>\n",
       "</table>\n",
       "</div>"
      ],
      "text/plain": [
       "    avg_bikes_avail  time\n",
       "0          8.407186     0\n",
       "1          8.409084     1\n",
       "2          8.409238     2\n",
       "3          8.410893     3\n",
       "4          8.412339     4\n",
       "5          8.404006     5\n",
       "6          8.336654     6\n",
       "7          8.140349     7\n",
       "8          8.006245     8\n",
       "9          8.040950     9\n",
       "10         8.134646    10\n",
       "11         8.142505    11\n",
       "12         8.138733    12\n",
       "13         8.188455    13\n",
       "14         8.194718    14\n",
       "15         8.128258    15\n",
       "16         8.012226    16\n",
       "17         7.867910    17\n",
       "18         7.971772    18\n",
       "19         8.167281    19\n",
       "20         8.274047    20\n",
       "21         8.358406    21\n",
       "22         8.390087    22\n",
       "23         8.400429    23"
      ]
     },
     "execution_count": 57,
     "metadata": {},
     "output_type": "execute_result"
    }
   ],
   "source": [
    "bike_availability = pd.read_csv('bike_availability.csv')\n",
    "bike_availability"
   ]
  },
  {
   "cell_type": "code",
   "execution_count": 63,
   "metadata": {},
   "outputs": [
    {
     "data": {
      "text/plain": [
       "Text(0.5, 1.0, 'Average Number of Bikes Available across all stations\\n aggregated by hour of the day')"
      ]
     },
     "execution_count": 63,
     "metadata": {},
     "output_type": "execute_result"
    },
    {
     "data": {
      "image/png": "[encoded data removed]",
      "text/plain": [
       "<Figure size 432x288 with 1 Axes>"
      ]
     },
     "metadata": {
      "needs_background": "light"
     },
     "output_type": "display_data"
    }
   ],
   "source": [
    "plt.plot(bike_availability.time, bike_availability.avg_bikes_avail)\n",
    "plt.xlabel('Time of day (24hr time)')\n",
    "plt.ylabel('Average number of available bikes')\n",
    "plt.title('Average Number of Bikes Available across all stations\\n aggregated by hour of the day')"
   ]
  },
  {
   "cell_type": "markdown",
   "metadata": {},
   "source": [
    "As you can see from the plot above, the number of available bikes dips (relatively) sharply during my defined commuter hours. However, if you inspect the pandas table above the plot, you can see the variance in this average is pretty tight. However this still support my initial definition of commuter hours."
   ]
  },
  {
   "cell_type": "markdown",
   "metadata": {},
   "source": [
    "Now, I want to inspect the average number of bikes available, but only at the two busiest stations:\n",
    "\n",
    "```sql\n",
    "SELECT avg(bikes_available) as avg_bikes_avail,  \n",
    "  EXTRACT(HOUR FROM time) AS time, \n",
    "FROM `bigquery-public-data.san_francisco.bikeshare_status`  \n",
    "WHERE station_id = 61 OR station_id = 50\n",
    "GROUP BY time \n",
    "ORDER BY time ASC\n",
    "```\n"
   ]
  },
  {
   "cell_type": "code",
   "execution_count": 69,
   "metadata": {},
   "outputs": [
    {
     "name": "stdout",
     "output_type": "stream",
     "text": [
      "Waiting on bqjob_r5ab85530a02c1487_00000174dba5dfe1_1 ... (0s) Current status: DONE   \n"
     ]
    }
   ],
   "source": [
    "! bq query --use_legacy_sql=FALSE --format=csv 'SELECT avg(bikes_available) as avg_bikes_avail, EXTRACT(HOUR FROM time) AS time, FROM `bigquery-public-data.san_francisco.bikeshare_status` WHERE station_id = 61 OR station_id = 50 GROUP BY time  ORDER BY time ASC' > busy_bike_availability.csv"
   ]
  },
  {
   "cell_type": "code",
   "execution_count": 70,
   "metadata": {},
   "outputs": [
    {
     "data": {
      "text/html": [
       "<div>\n",
       "<style scoped>\n",
       "    .dataframe tbody tr th:only-of-type {\n",
       "        vertical-align: middle;\n",
       "    }\n",
       "\n",
       "    .dataframe tbody tr th {\n",
       "        vertical-align: top;\n",
       "    }\n",
       "\n",
       "    .dataframe thead th {\n",
       "        text-align: right;\n",
       "    }\n",
       "</style>\n",
       "<table border=\"1\" class=\"dataframe\">\n",
       "  <thead>\n",
       "    <tr style=\"text-align: right;\">\n",
       "      <th></th>\n",
       "      <th>avg_bikes_avail</th>\n",
       "      <th>time</th>\n",
       "    </tr>\n",
       "  </thead>\n",
       "  <tbody>\n",
       "    <tr>\n",
       "      <th>0</th>\n",
       "      <td>15.009643</td>\n",
       "      <td>0</td>\n",
       "    </tr>\n",
       "    <tr>\n",
       "      <th>1</th>\n",
       "      <td>15.029577</td>\n",
       "      <td>1</td>\n",
       "    </tr>\n",
       "    <tr>\n",
       "      <th>2</th>\n",
       "      <td>15.030700</td>\n",
       "      <td>2</td>\n",
       "    </tr>\n",
       "    <tr>\n",
       "      <th>3</th>\n",
       "      <td>15.040515</td>\n",
       "      <td>3</td>\n",
       "    </tr>\n",
       "    <tr>\n",
       "      <th>4</th>\n",
       "      <td>15.025788</td>\n",
       "      <td>4</td>\n",
       "    </tr>\n",
       "    <tr>\n",
       "      <th>5</th>\n",
       "      <td>15.037688</td>\n",
       "      <td>5</td>\n",
       "    </tr>\n",
       "    <tr>\n",
       "      <th>6</th>\n",
       "      <td>14.836217</td>\n",
       "      <td>6</td>\n",
       "    </tr>\n",
       "    <tr>\n",
       "      <th>7</th>\n",
       "      <td>13.647351</td>\n",
       "      <td>7</td>\n",
       "    </tr>\n",
       "    <tr>\n",
       "      <th>8</th>\n",
       "      <td>11.457951</td>\n",
       "      <td>8</td>\n",
       "    </tr>\n",
       "    <tr>\n",
       "      <th>9</th>\n",
       "      <td>10.577160</td>\n",
       "      <td>9</td>\n",
       "    </tr>\n",
       "    <tr>\n",
       "      <th>10</th>\n",
       "      <td>10.862599</td>\n",
       "      <td>10</td>\n",
       "    </tr>\n",
       "    <tr>\n",
       "      <th>11</th>\n",
       "      <td>10.900419</td>\n",
       "      <td>11</td>\n",
       "    </tr>\n",
       "    <tr>\n",
       "      <th>12</th>\n",
       "      <td>11.096703</td>\n",
       "      <td>12</td>\n",
       "    </tr>\n",
       "    <tr>\n",
       "      <th>13</th>\n",
       "      <td>11.526051</td>\n",
       "      <td>13</td>\n",
       "    </tr>\n",
       "    <tr>\n",
       "      <th>14</th>\n",
       "      <td>11.507185</td>\n",
       "      <td>14</td>\n",
       "    </tr>\n",
       "    <tr>\n",
       "      <th>15</th>\n",
       "      <td>10.883342</td>\n",
       "      <td>15</td>\n",
       "    </tr>\n",
       "    <tr>\n",
       "      <th>16</th>\n",
       "      <td>10.828373</td>\n",
       "      <td>16</td>\n",
       "    </tr>\n",
       "    <tr>\n",
       "      <th>17</th>\n",
       "      <td>12.893600</td>\n",
       "      <td>17</td>\n",
       "    </tr>\n",
       "    <tr>\n",
       "      <th>18</th>\n",
       "      <td>14.282169</td>\n",
       "      <td>18</td>\n",
       "    </tr>\n",
       "    <tr>\n",
       "      <th>19</th>\n",
       "      <td>14.959005</td>\n",
       "      <td>19</td>\n",
       "    </tr>\n",
       "    <tr>\n",
       "      <th>20</th>\n",
       "      <td>15.115659</td>\n",
       "      <td>20</td>\n",
       "    </tr>\n",
       "    <tr>\n",
       "      <th>21</th>\n",
       "      <td>15.150761</td>\n",
       "      <td>21</td>\n",
       "    </tr>\n",
       "    <tr>\n",
       "      <th>22</th>\n",
       "      <td>15.078933</td>\n",
       "      <td>22</td>\n",
       "    </tr>\n",
       "    <tr>\n",
       "      <th>23</th>\n",
       "      <td>15.015196</td>\n",
       "      <td>23</td>\n",
       "    </tr>\n",
       "  </tbody>\n",
       "</table>\n",
       "</div>"
      ],
      "text/plain": [
       "    avg_bikes_avail  time\n",
       "0         15.009643     0\n",
       "1         15.029577     1\n",
       "2         15.030700     2\n",
       "3         15.040515     3\n",
       "4         15.025788     4\n",
       "5         15.037688     5\n",
       "6         14.836217     6\n",
       "7         13.647351     7\n",
       "8         11.457951     8\n",
       "9         10.577160     9\n",
       "10        10.862599    10\n",
       "11        10.900419    11\n",
       "12        11.096703    12\n",
       "13        11.526051    13\n",
       "14        11.507185    14\n",
       "15        10.883342    15\n",
       "16        10.828373    16\n",
       "17        12.893600    17\n",
       "18        14.282169    18\n",
       "19        14.959005    19\n",
       "20        15.115659    20\n",
       "21        15.150761    21\n",
       "22        15.078933    22\n",
       "23        15.015196    23"
      ]
     },
     "execution_count": 70,
     "metadata": {},
     "output_type": "execute_result"
    }
   ],
   "source": [
    "busy_bike_availability = pd.read_csv('busy_bike_availability.csv')\n",
    "busy_bike_availability"
   ]
  },
  {
   "cell_type": "code",
   "execution_count": 73,
   "metadata": {},
   "outputs": [
    {
     "data": {
      "text/plain": [
       "Text(0.5, 1.0, 'Average Number of Bikes Available across the busiest stations\\n (Harry Bridges Plaza (Ferry Building) &  2nd at Townsend) \\n aggregated by hour of the day')"
      ]
     },
     "execution_count": 73,
     "metadata": {},
     "output_type": "execute_result"
    },
    {
     "data": {
      "image/png": "[encoded data removed]",
      "text/plain": [
       "<Figure size 432x288 with 1 Axes>"
      ]
     },
     "metadata": {
      "needs_background": "light"
     },
     "output_type": "display_data"
    }
   ],
   "source": [
    "plt.plot(busy_bike_availability.time, busy_bike_availability.avg_bikes_avail)\n",
    "plt.xlabel('Time of day (24hr time)')\n",
    "plt.ylabel('Average number of available bikes')\n",
    "plt.title('Average Number of Bikes Available across the busiest stations\\n (Harry Bridges Plaza (Ferry Building) &  2nd at Townsend) \\n aggregated by hour of the day')"
   ]
  },
  {
   "cell_type": "markdown",
   "metadata": {},
   "source": [
    "From this second plot, you can see the variance for these busier stations is much higher than across all data. This supports my recommendations to focus on the busy stations. "
   ]
  }
 ],
 "metadata": {
  "environment": {
   "name": "tf2-2-3-gpu.2-3.m55",
   "type": "gcloud",
   "uri": "gcr.io/deeplearning-platform-release/tf2-2-3-gpu.2-3:m55"
  },
  "kernelspec": {
   "display_name": "Python 3",
   "language": "python",
   "name": "python3"
  },
  "language_info": {
   "codemirror_mode": {
    "name": "ipython",
    "version": 3
   },
   "file_extension": ".py",
   "mimetype": "text/x-python",
   "name": "python",
   "nbconvert_exporter": "python",
   "pygments_lexer": "ipython3",
   "version": "3.7.8"
  }
 },
 "nbformat": 4,
 "nbformat_minor": 4
}
